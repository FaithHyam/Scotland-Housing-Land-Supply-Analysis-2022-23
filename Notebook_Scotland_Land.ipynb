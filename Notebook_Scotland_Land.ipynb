{
 "cells": [
  {
   "cell_type": "code",
   "execution_count": 81,
   "metadata": {},
   "outputs": [],
   "source": [
    "import pandas as pd\n",
    "import matplotlib.pyplot as plt\n",
    "import seaborn as sns\n",
    "df = pd.read_csv('/Users/faithhyam/Coding/Housing_Project/Housing_Land_Supply_-_Scotland.csv')\n",
    "\n",
    "from IPython.display import display\n",
    "df.to_csv('cleaned_housing_land_supply.csv', index=False)\n"
   ]
  },
  {
   "cell_type": "markdown",
   "metadata": {},
   "source": [
    "First 5 Rows"
   ]
  },
  {
   "cell_type": "code",
   "execution_count": 82,
   "metadata": {},
   "outputs": [
    {
     "data": {
      "text/html": [
       "<div>\n",
       "<style scoped>\n",
       "    .dataframe tbody tr th:only-of-type {\n",
       "        vertical-align: middle;\n",
       "    }\n",
       "\n",
       "    .dataframe tbody tr th {\n",
       "        vertical-align: top;\n",
       "    }\n",
       "\n",
       "    .dataframe thead th {\n",
       "        text-align: right;\n",
       "    }\n",
       "</style>\n",
       "<table border=\"1\" class=\"dataframe\">\n",
       "  <thead>\n",
       "    <tr style=\"text-align: right;\">\n",
       "      <th></th>\n",
       "      <th>FID</th>\n",
       "      <th>sh_date_uploaded</th>\n",
       "      <th>local_authority</th>\n",
       "      <th>site_reference</th>\n",
       "      <th>la_s_code</th>\n",
       "      <th>sh_src</th>\n",
       "      <th>sh_src_id</th>\n",
       "    </tr>\n",
       "  </thead>\n",
       "  <tbody>\n",
       "    <tr>\n",
       "      <th>0</th>\n",
       "      <td>pub_hls22to23.1</td>\n",
       "      <td>2024-03-21</td>\n",
       "      <td>East Renfrewshire</td>\n",
       "      <td>ERRF0539</td>\n",
       "      <td>S12000011</td>\n",
       "      <td>282794e1-86c9-4d56-abc6-2f48838a5866</td>\n",
       "      <td>1</td>\n",
       "    </tr>\n",
       "    <tr>\n",
       "      <th>1</th>\n",
       "      <td>pub_hls22to23.2</td>\n",
       "      <td>2024-03-21</td>\n",
       "      <td>East Renfrewshire</td>\n",
       "      <td>EREW0044</td>\n",
       "      <td>S12000011</td>\n",
       "      <td>282794e1-86c9-4d56-abc6-2f48838a5866</td>\n",
       "      <td>2</td>\n",
       "    </tr>\n",
       "    <tr>\n",
       "      <th>2</th>\n",
       "      <td>pub_hls22to23.3</td>\n",
       "      <td>2024-03-21</td>\n",
       "      <td>East Renfrewshire</td>\n",
       "      <td>EREW0109</td>\n",
       "      <td>S12000011</td>\n",
       "      <td>282794e1-86c9-4d56-abc6-2f48838a5866</td>\n",
       "      <td>3</td>\n",
       "    </tr>\n",
       "    <tr>\n",
       "      <th>3</th>\n",
       "      <td>pub_hls22to23.6</td>\n",
       "      <td>2024-03-21</td>\n",
       "      <td>East Renfrewshire</td>\n",
       "      <td>ER0080</td>\n",
       "      <td>S12000011</td>\n",
       "      <td>282794e1-86c9-4d56-abc6-2f48838a5866</td>\n",
       "      <td>6</td>\n",
       "    </tr>\n",
       "    <tr>\n",
       "      <th>4</th>\n",
       "      <td>pub_hls22to23.7</td>\n",
       "      <td>2024-03-21</td>\n",
       "      <td>East Renfrewshire</td>\n",
       "      <td>ER0062</td>\n",
       "      <td>S12000011</td>\n",
       "      <td>282794e1-86c9-4d56-abc6-2f48838a5866</td>\n",
       "      <td>7</td>\n",
       "    </tr>\n",
       "  </tbody>\n",
       "</table>\n",
       "</div>"
      ],
      "text/plain": [
       "               FID sh_date_uploaded    local_authority site_reference  \\\n",
       "0  pub_hls22to23.1       2024-03-21  East Renfrewshire       ERRF0539   \n",
       "1  pub_hls22to23.2       2024-03-21  East Renfrewshire       EREW0044   \n",
       "2  pub_hls22to23.3       2024-03-21  East Renfrewshire       EREW0109   \n",
       "3  pub_hls22to23.6       2024-03-21  East Renfrewshire         ER0080   \n",
       "4  pub_hls22to23.7       2024-03-21  East Renfrewshire         ER0062   \n",
       "\n",
       "   la_s_code                                sh_src  sh_src_id  \n",
       "0  S12000011  282794e1-86c9-4d56-abc6-2f48838a5866          1  \n",
       "1  S12000011  282794e1-86c9-4d56-abc6-2f48838a5866          2  \n",
       "2  S12000011  282794e1-86c9-4d56-abc6-2f48838a5866          3  \n",
       "3  S12000011  282794e1-86c9-4d56-abc6-2f48838a5866          6  \n",
       "4  S12000011  282794e1-86c9-4d56-abc6-2f48838a5866          7  "
      ]
     },
     "execution_count": 82,
     "metadata": {},
     "output_type": "execute_result"
    }
   ],
   "source": [
    "df.head()"
   ]
  },
  {
   "cell_type": "markdown",
   "metadata": {},
   "source": [
    "Column Names, Data Types, and Missing Values"
   ]
  },
  {
   "cell_type": "code",
   "execution_count": 83,
   "metadata": {},
   "outputs": [
    {
     "name": "stdout",
     "output_type": "stream",
     "text": [
      "<class 'pandas.core.frame.DataFrame'>\n",
      "RangeIndex: 3342 entries, 0 to 3341\n",
      "Data columns (total 7 columns):\n",
      " #   Column            Non-Null Count  Dtype \n",
      "---  ------            --------------  ----- \n",
      " 0   FID               3342 non-null   object\n",
      " 1   sh_date_uploaded  3342 non-null   object\n",
      " 2   local_authority   3342 non-null   object\n",
      " 3   site_reference    3342 non-null   object\n",
      " 4   la_s_code         3342 non-null   object\n",
      " 5   sh_src            3342 non-null   object\n",
      " 6   sh_src_id         3342 non-null   int64 \n",
      "dtypes: int64(1), object(6)\n",
      "memory usage: 182.9+ KB\n"
     ]
    },
    {
     "data": {
      "text/plain": [
       "None"
      ]
     },
     "metadata": {},
     "output_type": "display_data"
    }
   ],
   "source": [
    "display(df.info())"
   ]
  },
  {
   "cell_type": "markdown",
   "metadata": {},
   "source": [
    "Summary Statistics for Numerical Columns"
   ]
  },
  {
   "cell_type": "code",
   "execution_count": 84,
   "metadata": {},
   "outputs": [
    {
     "data": {
      "text/html": [
       "<div>\n",
       "<style scoped>\n",
       "    .dataframe tbody tr th:only-of-type {\n",
       "        vertical-align: middle;\n",
       "    }\n",
       "\n",
       "    .dataframe tbody tr th {\n",
       "        vertical-align: top;\n",
       "    }\n",
       "\n",
       "    .dataframe thead th {\n",
       "        text-align: right;\n",
       "    }\n",
       "</style>\n",
       "<table border=\"1\" class=\"dataframe\">\n",
       "  <thead>\n",
       "    <tr style=\"text-align: right;\">\n",
       "      <th></th>\n",
       "      <th>sh_src_id</th>\n",
       "    </tr>\n",
       "  </thead>\n",
       "  <tbody>\n",
       "    <tr>\n",
       "      <th>count</th>\n",
       "      <td>3342.000000</td>\n",
       "    </tr>\n",
       "    <tr>\n",
       "      <th>mean</th>\n",
       "      <td>129.647516</td>\n",
       "    </tr>\n",
       "    <tr>\n",
       "      <th>std</th>\n",
       "      <td>105.961196</td>\n",
       "    </tr>\n",
       "    <tr>\n",
       "      <th>min</th>\n",
       "      <td>1.000000</td>\n",
       "    </tr>\n",
       "    <tr>\n",
       "      <th>25%</th>\n",
       "      <td>43.000000</td>\n",
       "    </tr>\n",
       "    <tr>\n",
       "      <th>50%</th>\n",
       "      <td>98.000000</td>\n",
       "    </tr>\n",
       "    <tr>\n",
       "      <th>75%</th>\n",
       "      <td>199.000000</td>\n",
       "    </tr>\n",
       "    <tr>\n",
       "      <th>max</th>\n",
       "      <td>460.000000</td>\n",
       "    </tr>\n",
       "  </tbody>\n",
       "</table>\n",
       "</div>"
      ],
      "text/plain": [
       "         sh_src_id\n",
       "count  3342.000000\n",
       "mean    129.647516\n",
       "std     105.961196\n",
       "min       1.000000\n",
       "25%      43.000000\n",
       "50%      98.000000\n",
       "75%     199.000000\n",
       "max     460.000000"
      ]
     },
     "execution_count": 84,
     "metadata": {},
     "output_type": "execute_result"
    }
   ],
   "source": [
    "df.describe()"
   ]
  },
  {
   "cell_type": "markdown",
   "metadata": {},
   "source": [
    "Number of Missing Values per Column"
   ]
  },
  {
   "cell_type": "code",
   "execution_count": 85,
   "metadata": {},
   "outputs": [
    {
     "data": {
      "text/plain": [
       "FID                 0\n",
       "sh_date_uploaded    0\n",
       "local_authority     0\n",
       "site_reference      0\n",
       "la_s_code           0\n",
       "sh_src              0\n",
       "sh_src_id           0\n",
       "dtype: int64"
      ]
     },
     "execution_count": 85,
     "metadata": {},
     "output_type": "execute_result"
    }
   ],
   "source": [
    "df.isnull().sum() "
   ]
  },
  {
   "cell_type": "markdown",
   "metadata": {},
   "source": [
    "List of all Column Names"
   ]
  },
  {
   "cell_type": "code",
   "execution_count": 86,
   "metadata": {},
   "outputs": [
    {
     "data": {
      "text/plain": [
       "Index(['FID', 'sh_date_uploaded', 'local_authority', 'site_reference',\n",
       "       'la_s_code', 'sh_src', 'sh_src_id'],\n",
       "      dtype='object')"
      ]
     },
     "execution_count": 86,
     "metadata": {},
     "output_type": "execute_result"
    }
   ],
   "source": [
    "df.columns"
   ]
  },
  {
   "cell_type": "markdown",
   "metadata": {},
   "source": [
    "Rows, Columns "
   ]
  },
  {
   "cell_type": "code",
   "execution_count": 87,
   "metadata": {},
   "outputs": [
    {
     "data": {
      "text/plain": [
       "(3342, 7)"
      ]
     },
     "execution_count": 87,
     "metadata": {},
     "output_type": "execute_result"
    }
   ],
   "source": [
    "df.shape"
   ]
  },
  {
   "cell_type": "markdown",
   "metadata": {},
   "source": [
    "Cleaning Data "
   ]
  },
  {
   "cell_type": "code",
   "execution_count": 88,
   "metadata": {},
   "outputs": [],
   "source": [
    "df.columns = ['audit_reference', 'date_uploaded', 'local_authority', 'site_reference',\n",
    "              'local_authority_code', 'unique_identifier', 'completion_status']\n"
   ]
  },
  {
   "cell_type": "code",
   "execution_count": 89,
   "metadata": {},
   "outputs": [],
   "source": [
    "df['date_uploaded'] = pd.to_datetime(df['date_uploaded'], errors='coerce')"
   ]
  },
  {
   "cell_type": "code",
   "execution_count": 90,
   "metadata": {},
   "outputs": [
    {
     "data": {
      "text/plain": [
       "dtype('<M8[ns]')"
      ]
     },
     "execution_count": 90,
     "metadata": {},
     "output_type": "execute_result"
    }
   ],
   "source": [
    "df['date_uploaded'].dtype"
   ]
  },
  {
   "cell_type": "markdown",
   "metadata": {},
   "source": [
    "Filtering by Local Authority and Dates "
   ]
  },
  {
   "cell_type": "code",
   "execution_count": 91,
   "metadata": {},
   "outputs": [],
   "source": [
    "east_renfrewshire_data = df[df['local_authority'] == 'East Renfrewshire']"
   ]
  },
  {
   "cell_type": "code",
   "execution_count": 92,
   "metadata": {},
   "outputs": [],
   "source": [
    "march_data = df[(df['date_uploaded'] >= '2024-03-01') & (df['date_uploaded'] <= '2024-03-31')]"
   ]
  },
  {
   "cell_type": "code",
   "execution_count": 93,
   "metadata": {},
   "outputs": [
    {
     "data": {
      "text/plain": [
       "(   audit_reference date_uploaded    local_authority site_reference  \\\n",
       " 0  pub_hls22to23.1    2024-03-21  East Renfrewshire       ERRF0539   \n",
       " 1  pub_hls22to23.2    2024-03-21  East Renfrewshire       EREW0044   \n",
       " 2  pub_hls22to23.3    2024-03-21  East Renfrewshire       EREW0109   \n",
       " 3  pub_hls22to23.6    2024-03-21  East Renfrewshire         ER0080   \n",
       " 4  pub_hls22to23.7    2024-03-21  East Renfrewshire         ER0062   \n",
       " \n",
       "   local_authority_code                     unique_identifier  \\\n",
       " 0            S12000011  282794e1-86c9-4d56-abc6-2f48838a5866   \n",
       " 1            S12000011  282794e1-86c9-4d56-abc6-2f48838a5866   \n",
       " 2            S12000011  282794e1-86c9-4d56-abc6-2f48838a5866   \n",
       " 3            S12000011  282794e1-86c9-4d56-abc6-2f48838a5866   \n",
       " 4            S12000011  282794e1-86c9-4d56-abc6-2f48838a5866   \n",
       " \n",
       "    completion_status  \n",
       " 0                  1  \n",
       " 1                  2  \n",
       " 2                  3  \n",
       " 3                  6  \n",
       " 4                  7  ,\n",
       "    audit_reference date_uploaded    local_authority site_reference  \\\n",
       " 0  pub_hls22to23.1    2024-03-21  East Renfrewshire       ERRF0539   \n",
       " 1  pub_hls22to23.2    2024-03-21  East Renfrewshire       EREW0044   \n",
       " 2  pub_hls22to23.3    2024-03-21  East Renfrewshire       EREW0109   \n",
       " 3  pub_hls22to23.6    2024-03-21  East Renfrewshire         ER0080   \n",
       " 4  pub_hls22to23.7    2024-03-21  East Renfrewshire         ER0062   \n",
       " \n",
       "   local_authority_code                     unique_identifier  \\\n",
       " 0            S12000011  282794e1-86c9-4d56-abc6-2f48838a5866   \n",
       " 1            S12000011  282794e1-86c9-4d56-abc6-2f48838a5866   \n",
       " 2            S12000011  282794e1-86c9-4d56-abc6-2f48838a5866   \n",
       " 3            S12000011  282794e1-86c9-4d56-abc6-2f48838a5866   \n",
       " 4            S12000011  282794e1-86c9-4d56-abc6-2f48838a5866   \n",
       " \n",
       "    completion_status  \n",
       " 0                  1  \n",
       " 1                  2  \n",
       " 2                  3  \n",
       " 3                  6  \n",
       " 4                  7  )"
      ]
     },
     "execution_count": 93,
     "metadata": {},
     "output_type": "execute_result"
    }
   ],
   "source": [
    "east_renfrewshire_data.head(), march_data.head()"
   ]
  },
  {
   "cell_type": "markdown",
   "metadata": {},
   "source": [
    "Summarize Housing Completions by Local Authority"
   ]
  },
  {
   "cell_type": "code",
   "execution_count": 94,
   "metadata": {},
   "outputs": [],
   "source": [
    "completions_by_la = df.groupby('local_authority')['completion_status'].sum().reset_index()"
   ]
  },
  {
   "cell_type": "code",
   "execution_count": 95,
   "metadata": {},
   "outputs": [],
   "source": [
    "completions_by_la.sort_values('completion_status', ascending=False, inplace=True)"
   ]
  },
  {
   "cell_type": "code",
   "execution_count": 96,
   "metadata": {},
   "outputs": [
    {
     "data": {
      "text/html": [
       "<div>\n",
       "<style scoped>\n",
       "    .dataframe tbody tr th:only-of-type {\n",
       "        vertical-align: middle;\n",
       "    }\n",
       "\n",
       "    .dataframe tbody tr th {\n",
       "        vertical-align: top;\n",
       "    }\n",
       "\n",
       "    .dataframe thead th {\n",
       "        text-align: right;\n",
       "    }\n",
       "</style>\n",
       "<table border=\"1\" class=\"dataframe\">\n",
       "  <thead>\n",
       "    <tr style=\"text-align: right;\">\n",
       "      <th></th>\n",
       "      <th>local_authority</th>\n",
       "      <th>completion_status</th>\n",
       "    </tr>\n",
       "  </thead>\n",
       "  <tbody>\n",
       "    <tr>\n",
       "      <th>10</th>\n",
       "      <td>Fife</td>\n",
       "      <td>106030</td>\n",
       "    </tr>\n",
       "    <tr>\n",
       "      <th>11</th>\n",
       "      <td>Glasgow City</td>\n",
       "      <td>65341</td>\n",
       "    </tr>\n",
       "    <tr>\n",
       "      <th>12</th>\n",
       "      <td>Highland</td>\n",
       "      <td>63903</td>\n",
       "    </tr>\n",
       "    <tr>\n",
       "      <th>1</th>\n",
       "      <td>Aberdeenshire</td>\n",
       "      <td>52326</td>\n",
       "    </tr>\n",
       "    <tr>\n",
       "      <th>14</th>\n",
       "      <td>North Lanarkshire</td>\n",
       "      <td>36046</td>\n",
       "    </tr>\n",
       "  </tbody>\n",
       "</table>\n",
       "</div>"
      ],
      "text/plain": [
       "      local_authority  completion_status\n",
       "10               Fife             106030\n",
       "11       Glasgow City              65341\n",
       "12           Highland              63903\n",
       "1       Aberdeenshire              52326\n",
       "14  North Lanarkshire              36046"
      ]
     },
     "execution_count": 96,
     "metadata": {},
     "output_type": "execute_result"
    }
   ],
   "source": [
    "completions_by_la.head()"
   ]
  },
  {
   "cell_type": "markdown",
   "metadata": {},
   "source": [
    "Distribution of Completion Status"
   ]
  },
  {
   "cell_type": "code",
   "execution_count": 97,
   "metadata": {},
   "outputs": [
    {
     "data": {
      "text/plain": [
       "dtype('<M8[ns]')"
      ]
     },
     "execution_count": 97,
     "metadata": {},
     "output_type": "execute_result"
    }
   ],
   "source": [
    "df['date_uploaded'].dtype"
   ]
  },
  {
   "cell_type": "code",
   "execution_count": 98,
   "metadata": {},
   "outputs": [],
   "source": [
    "completion_counts = df['completion_status'].value_counts()"
   ]
  },
  {
   "cell_type": "code",
   "execution_count": 112,
   "metadata": {},
   "outputs": [
    {
     "data": {
      "image/png": "[encoded data removed]",
      "text/plain": [
       "<Figure size 800x600 with 1 Axes>"
      ]
     },
     "metadata": {},
     "output_type": "display_data"
    }
   ],
   "source": [
    "completion_counts.plot(kind='bar', figsize=(8, 6), title='Distribution of Housing Completions (1=Completed, 0=Not Completed)')\n",
    "plt.xlabel('Completion Status')\n",
    "plt.ylabel('Count')\n",
    "plt.show()\n"
   ]
  },
  {
   "cell_type": "markdown",
   "metadata": {},
   "source": [
    "Date Analysis: Housing Trends Over Time"
   ]
  },
  {
   "cell_type": "code",
   "execution_count": 113,
   "metadata": {},
   "outputs": [
    {
     "data": {
      "image/png": "[encoded data removed]",
      "text/plain": [
       "<Figure size 1200x800 with 1 Axes>"
      ]
     },
     "metadata": {},
     "output_type": "display_data"
    }
   ],
   "source": [
    "completions_by_date = df.groupby('date_uploaded')['completion_status'].sum().reset_index()\n",
    "plt.figure(figsize=(12, 8))\n",
    "plt.plot(completions_by_date['date_uploaded'], completions_by_date['completion_status'])\n",
    "plt.xlabel('Date')\n",
    "plt.ylabel('Number of Completed Houses')\n",
    "plt.title('Housing Completions Over Time')\n",
    "plt.xticks(rotation=45)\n",
    "plt.show()"
   ]
  },
  {
   "cell_type": "markdown",
   "metadata": {},
   "source": [
    "Analyzing Specific Sites "
   ]
  },
  {
   "cell_type": "code",
   "execution_count": 114,
   "metadata": {},
   "outputs": [
    {
     "data": {
      "text/html": [
       "<div>\n",
       "<style scoped>\n",
       "    .dataframe tbody tr th:only-of-type {\n",
       "        vertical-align: middle;\n",
       "    }\n",
       "\n",
       "    .dataframe tbody tr th {\n",
       "        vertical-align: top;\n",
       "    }\n",
       "\n",
       "    .dataframe thead th {\n",
       "        text-align: right;\n",
       "    }\n",
       "</style>\n",
       "<table border=\"1\" class=\"dataframe\">\n",
       "  <thead>\n",
       "    <tr style=\"text-align: right;\">\n",
       "      <th></th>\n",
       "      <th>audit_reference</th>\n",
       "      <th>date_uploaded</th>\n",
       "      <th>local_authority</th>\n",
       "      <th>site_reference</th>\n",
       "      <th>local_authority_code</th>\n",
       "      <th>unique_identifier</th>\n",
       "      <th>completion_status</th>\n",
       "    </tr>\n",
       "  </thead>\n",
       "  <tbody>\n",
       "    <tr>\n",
       "      <th>0</th>\n",
       "      <td>pub_hls22to23.1</td>\n",
       "      <td>2024-03-21</td>\n",
       "      <td>East Renfrewshire</td>\n",
       "      <td>ERRF0539</td>\n",
       "      <td>S12000011</td>\n",
       "      <td>282794e1-86c9-4d56-abc6-2f48838a5866</td>\n",
       "      <td>1</td>\n",
       "    </tr>\n",
       "  </tbody>\n",
       "</table>\n",
       "</div>"
      ],
      "text/plain": [
       "   audit_reference date_uploaded    local_authority site_reference  \\\n",
       "0  pub_hls22to23.1    2024-03-21  East Renfrewshire       ERRF0539   \n",
       "\n",
       "  local_authority_code                     unique_identifier  \\\n",
       "0            S12000011  282794e1-86c9-4d56-abc6-2f48838a5866   \n",
       "\n",
       "   completion_status  \n",
       "0                  1  "
      ]
     },
     "execution_count": 114,
     "metadata": {},
     "output_type": "execute_result"
    }
   ],
   "source": [
    "site_data = df[df['site_reference'] == 'ERRF0539']\n",
    "site_data.head()"
   ]
  }
 ],
 "metadata": {
  "kernelspec": {
   "display_name": "Python 3",
   "language": "python",
   "name": "python3"
  },
  "language_info": {
   "codemirror_mode": {
    "name": "ipython",
    "version": 3
   },
   "file_extension": ".py",
   "mimetype": "text/x-python",
   "name": "python",
   "nbconvert_exporter": "python",
   "pygments_lexer": "ipython3",
   "version": "3.13.2"
  }
 },
 "nbformat": 4,
 "nbformat_minor": 2
}
